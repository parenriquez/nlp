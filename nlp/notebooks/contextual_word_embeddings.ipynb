{
 "cells": [
  {
   "cell_type": "markdown",
   "metadata": {},
   "source": [
    "###### resource: https://github.com/Applied-Language-Technology/notebooks/blob/main/part_iii/05_embeddings_continued.ipynb"
   ]
  },
  {
   "cell_type": "markdown",
   "metadata": {},
   "source": [
    "#### **E. Contextual Embeddings**"
   ]
  },
  {
   "attachments": {},
   "cell_type": "markdown",
   "metadata": {},
   "source": [
    "So far, the embeddings that we have learned are described as `static`. This means that the vector representation for a given token **regardless** of the `context` in which the token occurs.\n",
    "\n",
    "Words can have more than one meaning depending on the context they appear:\n",
    "\n",
    "1. Manila is the `capital` of the Philippines.\n",
    "2. Protect your `capital`, profits just follow.\n",
    "\n",
    "Static word embeddings cannot capture this distinction because words will always have the same vector representation. The values of the `n-dimensional` vector remains the same.\n",
    "\n",
    "We would like to encode the context by which a word occurs to draw out these differences in meaning, using an architecture called **`Transformers`**.\n",
    "\n",
    "A **`Transformer`** is a neural network architecture that is capable of encoding information about the context which a token occurs. It improved performance for traditional natural language processing tasks such as part-of-speech tagging and syntactic parsing, but it is `computationally heavy`."
   ]
  },
  {
   "cell_type": "markdown",
   "metadata": {},
   "source": [
    "**`Transformer`** has an **encoder-decoder** architecture and work through **sequence-to-sequence** learning, where the Transformer takes a sequence of tokens (ex. sentence) throught the encoder, and predicts the next word in the output sequence (decoder).\n",
    "\n",
    "It accomplishes this by iterating through **encoder layers**, the encoder layers generate **encodings** which define which part of the input sequence are relevant to each other, and then passes these encodings to the next encoder layer. The **decoder layer** takes in the encodings and use their derived context to generate the output sequence.\n",
    "\n",
    "Transformer is a form of **semi-supervised learning**. They are pre-trained in an unsupervised manner with a large unlabeled dataset, andare trained supervised so they perform better.\n",
    "\n",
    "Transformers do not necessarily process sequence in order. They use **\"attention\"** mechanism. This provides context around words in the input sequence. Rather than starting at the beginning of the sequence, the Transformer attempts to identify the *context* which brings meaning to each word in a sequence.\n",
    "\n",
    "Transformers run multiple sequences in **parallel**, speeding up training times."
   ]
  },
  {
   "cell_type": "code",
   "execution_count": 1,
   "metadata": {},
   "outputs": [],
   "source": [
    "import spacy"
   ]
  },
  {
   "cell_type": "code",
   "execution_count": 2,
   "metadata": {},
   "outputs": [],
   "source": [
    "# Load a Transformer-based language model\n",
    "nlp_trf = spacy.load('en_core_web_trf')"
   ]
  },
  {
   "cell_type": "markdown",
   "metadata": {},
   "source": [
    "On the surface, a ***Language*** object that contains a Transformer-based model looks and works just like any other language model in spaCy.\n",
    "\n",
    "However, if we look under the hood of the *Language* object under `nlp_trf` using `pipeline`, we will see that the first component in the processing pipeline is a Transformer."
   ]
  },
  {
   "cell_type": "code",
   "execution_count": 3,
   "metadata": {},
   "outputs": [
    {
     "data": {
      "text/plain": [
       "[('transformer',\n",
       "  <spacy_transformers.pipeline_component.Transformer at 0x20e5da7db20>),\n",
       " ('tagger', <spacy.pipeline.tagger.Tagger at 0x20e5da7df40>),\n",
       " ('parser', <spacy.pipeline.dep_parser.DependencyParser at 0x20e5da930b0>),\n",
       " ('attribute_ruler',\n",
       "  <spacy.pipeline.attributeruler.AttributeRuler at 0x20e5daca300>),\n",
       " ('lemmatizer', <spacy.lang.en.lemmatizer.EnglishLemmatizer at 0x20e5dacfc80>),\n",
       " ('ner', <spacy.pipeline.ner.EntityRecognizer at 0x20e5da93200>)]"
      ]
     },
     "execution_count": 3,
     "metadata": {},
     "output_type": "execute_result"
    }
   ],
   "source": [
    "nlp_trf.pipeline"
   ]
  },
  {
   "cell_type": "code",
   "execution_count": 4,
   "metadata": {},
   "outputs": [
    {
     "data": {
      "text/plain": [
       "11"
      ]
     },
     "execution_count": 4,
     "metadata": {},
     "output_type": "execute_result"
    }
   ],
   "source": [
    "# Feed an example sentence to the model\n",
    "example_doc = nlp_trf('Protect your capital, profits just follow ~ Paul Aldrin Enriquez')\n",
    "\n",
    "# Check the length of the document\n",
    "# It counts the punctuation marks\n",
    "len(example_doc)"
   ]
  },
  {
   "cell_type": "markdown",
   "metadata": {},
   "source": [
    "The output of the transformer is stored in an object in spaCy called `trf_data`.\n",
    "\n",
    "The `tensors` attribute of the *TransformerData* object contains a list with vector representations generated by the Transformer for individual *Tokens* and the entire *Doc* object.\n",
    "\n",
    "The first item in the `tensors` list under index 0 contains the output for the individual tokens."
   ]
  },
  {
   "cell_type": "code",
   "execution_count": 5,
   "metadata": {},
   "outputs": [
    {
     "data": {
      "text/plain": [
       "(1, 16, 768)"
      ]
     },
     "execution_count": 5,
     "metadata": {},
     "output_type": "execute_result"
    }
   ],
   "source": [
    "example_doc._.trf_data.tensors[0].shape"
   ]
  },
  {
   "attachments": {},
   "cell_type": "markdown",
   "metadata": {},
   "source": [
    "This means there is one batch of `16` vectors, each with `768` dimensions."
   ]
  },
  {
   "cell_type": "code",
   "execution_count": 6,
   "metadata": {},
   "outputs": [
    {
     "data": {
      "text/plain": [
       "array([[ 0.11291292,  0.0949162 , -1.14669   , ..., -0.01264074,\n",
       "         0.41317725, -0.72440493],\n",
       "       [ 0.67019814, -1.5462617 , -0.10938556, ..., -2.2133718 ,\n",
       "        -0.00850883, -0.4185671 ],\n",
       "       [ 0.30647755,  0.17339891, -0.8266205 , ...,  0.9133857 ,\n",
       "         0.96996236,  0.9239493 ],\n",
       "       ...,\n",
       "       [-0.37335178, -1.1102524 ,  0.87105846, ..., -1.744865  ,\n",
       "         0.19510983, -0.20536007],\n",
       "       [ 2.0650144 , -1.0129883 , -0.3600636 , ...,  0.67700756,\n",
       "         1.2665759 ,  0.8351748 ],\n",
       "       [-0.11842656, -1.4274666 ,  0.46804148, ..., -0.01015834,\n",
       "        -0.40615833, -0.1324595 ]], dtype=float32)"
      ]
     },
     "execution_count": 6,
     "metadata": {},
     "output_type": "execute_result"
    }
   ],
   "source": [
    "# Check the first ten dimensions of the tensor\n",
    "example_doc._.trf_data.tensors[0][0][:10]"
   ]
  },
  {
   "cell_type": "markdown",
   "metadata": {},
   "source": [
    "The second item under index 1 holds the output for the entire *Doc* object."
   ]
  },
  {
   "cell_type": "code",
   "execution_count": 7,
   "metadata": {},
   "outputs": [
    {
     "data": {
      "text/plain": [
       "(1, 768)"
      ]
     },
     "execution_count": 7,
     "metadata": {},
     "output_type": "execute_result"
    }
   ],
   "source": [
    "example_doc._.trf_data.tensors[1].shape\n",
    "# A single vector with 768 dimensions"
   ]
  },
  {
   "cell_type": "code",
   "execution_count": 8,
   "metadata": {},
   "outputs": [
    {
     "data": {
      "text/plain": [
       "array([[ 3.32911432e-01,  2.82008320e-01, -1.22935511e-01,\n",
       "        -4.33271453e-02, -1.10591464e-01, -2.17549235e-01,\n",
       "         3.60825837e-01, -1.08922005e-01, -5.62521696e-01,\n",
       "        -1.24820150e-01,  1.62289187e-01, -3.98453236e-01,\n",
       "         2.47829735e-01,  5.80639005e-01, -4.30171937e-01,\n",
       "         4.15430814e-01,  3.04646939e-01, -3.43187630e-01,\n",
       "         1.08068369e-01,  2.72357017e-01, -2.20026150e-01,\n",
       "         3.99266511e-01,  2.72856414e-01,  4.65857089e-01,\n",
       "         1.78466421e-02, -1.69012547e-01,  1.08608790e-02,\n",
       "        -2.04969168e-01,  3.82948130e-01,  6.41437769e-01,\n",
       "         1.16692081e-01, -3.29945862e-01,  2.60516524e-01,\n",
       "         6.70336664e-01, -5.85568905e-01,  2.46269591e-02,\n",
       "        -1.35597423e-01, -4.42497544e-02,  6.23648822e-01,\n",
       "        -3.30455810e-01, -1.45988777e-01, -2.04099566e-01,\n",
       "         4.19752412e-02, -3.65055263e-01,  2.85328627e-01,\n",
       "         1.26097113e-01,  8.49947631e-02, -1.24532990e-01,\n",
       "         3.82689714e-01,  2.89329916e-01, -3.87665331e-01,\n",
       "         4.45420057e-01,  5.84863424e-01,  4.56009954e-02,\n",
       "        -2.36064926e-01, -1.85076863e-01,  1.47863093e-03,\n",
       "         3.50611173e-02, -4.19476002e-01,  1.18993029e-01,\n",
       "        -3.51343155e-01, -3.37071538e-01,  9.53748375e-02,\n",
       "        -9.38422531e-02, -5.47743022e-01, -8.57349485e-02,\n",
       "        -2.75315911e-01,  8.20955075e-03, -2.54944891e-01,\n",
       "        -1.50787428e-01, -3.53446722e-01,  9.68897343e-02,\n",
       "         2.54837692e-01, -2.63298512e-01, -4.99042511e-01,\n",
       "         2.65816331e-01, -1.73820272e-01, -1.29181370e-01,\n",
       "        -4.81547490e-02,  4.94551420e-01, -6.63891017e-01,\n",
       "         1.83634758e-01,  2.09797680e-01,  4.42980856e-01,\n",
       "        -3.55079114e-01, -3.91225487e-01, -5.04151881e-01,\n",
       "         6.93642953e-03,  7.62822777e-02,  2.30409607e-01,\n",
       "        -4.70037431e-01, -6.32898629e-01, -1.95865706e-02,\n",
       "         2.38640785e-01, -2.87414879e-01,  4.89808828e-01,\n",
       "         3.51921082e-01, -3.05548366e-02,  1.08769968e-01,\n",
       "        -5.92479944e-01, -9.46405455e-02, -2.12109331e-02,\n",
       "        -5.48920989e-01, -1.45080164e-01,  1.51404202e-01,\n",
       "        -7.50587136e-02,  4.94178951e-01, -1.22694613e-03,\n",
       "        -2.14828014e-01,  2.63754874e-01, -2.36305162e-01,\n",
       "         4.09569323e-01,  7.51004787e-03, -2.56694794e-01,\n",
       "         3.84182036e-01, -5.63572012e-02,  4.73945856e-01,\n",
       "        -4.70229536e-01,  6.25924587e-01, -7.69589007e-01,\n",
       "         1.09678075e-01,  1.98976733e-02,  6.34663999e-01,\n",
       "         3.16758573e-01, -5.03719866e-01,  5.11085093e-01,\n",
       "         5.17355680e-01,  3.36108506e-01,  8.23740065e-02,\n",
       "        -3.65613967e-01, -1.95323154e-02,  8.39482695e-02,\n",
       "         9.23945382e-02, -2.11189210e-01,  3.17997485e-01,\n",
       "         6.00516021e-01, -2.12932661e-01, -3.66278589e-01,\n",
       "        -1.07964151e-01, -1.74282834e-01,  3.42759639e-01,\n",
       "         2.04806417e-01,  1.42736122e-01,  3.29855144e-01,\n",
       "         2.24844396e-01, -6.73317462e-02,  1.75929725e-01,\n",
       "         5.37830638e-03, -2.41050348e-01,  3.64736229e-01,\n",
       "        -5.96740730e-02,  5.36419712e-02, -1.15293982e-02,\n",
       "        -2.50085562e-01, -6.86023057e-01,  1.23301074e-01,\n",
       "         1.19242020e-01,  2.73673236e-01, -2.35745803e-01,\n",
       "        -3.37389857e-02, -2.55741179e-01, -3.31264287e-01,\n",
       "        -1.68726340e-01, -4.69544590e-01,  1.53508961e-01,\n",
       "        -5.89808524e-01,  6.11833334e-01, -4.32038382e-02,\n",
       "         5.13386466e-02,  7.66495019e-02, -1.37703285e-01,\n",
       "        -6.87247157e-01, -6.04173779e-01,  2.15926334e-01,\n",
       "        -3.21763009e-01,  6.37021363e-01, -4.57983553e-01,\n",
       "         5.08262634e-01,  4.54330146e-01, -2.63019204e-01,\n",
       "         1.78258330e-01, -1.68819189e-01,  3.91888857e-01,\n",
       "         3.22426975e-01,  4.61700886e-01,  4.26749527e-01,\n",
       "        -2.09005222e-01, -7.49917552e-02, -2.91645557e-01,\n",
       "        -1.81262389e-01,  1.62160203e-01, -1.42805621e-01,\n",
       "         4.17579114e-01, -2.72241622e-01, -1.63910985e-01,\n",
       "         1.16144523e-01, -1.10626630e-01,  9.13658142e-02,\n",
       "         5.50641343e-02, -7.84478366e-01,  1.55318543e-01,\n",
       "        -5.28229296e-01,  1.30204052e-01, -3.82697791e-01,\n",
       "         5.44435322e-01,  2.37825923e-02,  3.04431528e-01,\n",
       "         1.59765556e-01,  7.69367665e-02, -7.08651841e-02,\n",
       "         2.49622226e-01, -4.73014206e-01,  5.22087872e-01,\n",
       "        -2.41947919e-02, -3.69178981e-01, -3.67268801e-01,\n",
       "        -9.70755145e-02, -4.47437838e-02, -3.05119187e-01,\n",
       "         3.87202762e-02, -1.46997049e-01,  2.77964413e-01,\n",
       "         2.91035235e-01, -1.74260307e-02,  2.27067113e-01,\n",
       "        -3.20204288e-01, -3.97043407e-01,  2.82843709e-01,\n",
       "        -9.04803872e-02,  3.03432375e-01,  6.08219087e-01,\n",
       "        -3.59266579e-01,  3.11512738e-01, -1.66430727e-01,\n",
       "        -4.57970560e-01,  6.02020979e-01, -3.23330969e-01,\n",
       "         6.45984292e-01,  3.14997658e-02, -5.89667186e-02,\n",
       "         3.84515792e-01, -2.43401945e-01,  3.06866378e-01,\n",
       "        -1.09694205e-01,  2.38646660e-02, -1.77063629e-01,\n",
       "         3.91429603e-01,  9.32585448e-02,  1.45622537e-01,\n",
       "        -4.38922763e-01,  2.54658997e-01, -2.23166063e-01,\n",
       "        -3.97091180e-01, -1.73971243e-02,  3.73258263e-01,\n",
       "         3.44772726e-01,  1.70942739e-01, -5.57476938e-01,\n",
       "         3.97784948e-01,  3.37438554e-01,  2.06809700e-01,\n",
       "         3.77043709e-02,  1.12491027e-01,  1.57385483e-01,\n",
       "        -3.76418352e-01,  4.86007482e-01,  4.78358455e-02,\n",
       "         4.07041907e-01, -4.59549785e-01,  2.42647603e-01,\n",
       "         8.51873457e-02, -6.80051625e-01, -8.72191861e-02,\n",
       "         1.23757739e-02, -1.83574274e-01,  5.23080640e-02,\n",
       "        -1.94199353e-01,  6.87092096e-02,  4.39190306e-02,\n",
       "        -2.12955326e-01, -8.11740980e-02, -2.80537099e-01,\n",
       "        -9.04093236e-02, -1.92208737e-01,  1.03400946e-01,\n",
       "        -5.36204338e-01,  2.04967380e-01,  4.58305508e-01,\n",
       "         4.05121744e-01,  3.89091484e-03,  5.78094088e-03,\n",
       "        -3.15900713e-01,  5.74389458e-01, -4.05784905e-01,\n",
       "         3.01431626e-01,  2.88171023e-01, -1.19842932e-01,\n",
       "         6.51278645e-02, -1.15017541e-01, -3.22150320e-01,\n",
       "        -4.16621238e-01,  4.03531790e-01,  1.99789420e-01,\n",
       "         4.72211748e-01,  1.11643270e-01, -5.28064966e-01,\n",
       "        -7.68619895e-01,  3.40423018e-01,  1.63883150e-01,\n",
       "         4.07796353e-01,  8.25267509e-02,  5.50743043e-01,\n",
       "         2.44907901e-01, -8.44203115e-01,  3.42372581e-02,\n",
       "        -3.61950070e-01,  2.33829796e-01, -1.38444021e-01,\n",
       "        -2.26287022e-01, -2.24245057e-01, -1.78438872e-01,\n",
       "         5.36200762e-01, -6.08624637e-01,  9.61221233e-02,\n",
       "         3.30356747e-01,  3.14670652e-01, -3.34355772e-01,\n",
       "         4.58839059e-01, -4.57628876e-01,  2.15488285e-01,\n",
       "        -2.29522377e-01,  1.26984864e-01, -4.16046590e-01,\n",
       "         2.21979812e-01, -1.20447002e-01, -2.71351691e-02,\n",
       "         1.76983297e-01, -3.83133858e-01, -6.00604201e-03,\n",
       "         1.15042761e-01, -5.56070387e-01,  3.49619299e-01,\n",
       "         1.40921965e-01,  8.52819011e-02, -4.78179514e-01,\n",
       "         3.43697280e-01, -3.99726689e-01, -8.74332190e-02,\n",
       "         5.22736847e-01, -4.71449131e-03,  7.81508684e-02,\n",
       "        -4.04392481e-01, -5.68810463e-01,  5.11210620e-01,\n",
       "        -3.09269130e-01,  3.51805925e-01,  1.70477927e-01,\n",
       "         1.68094337e-02,  5.66261709e-01, -1.81835994e-01,\n",
       "        -3.61887813e-01, -1.26750022e-01, -2.54229724e-01,\n",
       "         4.88566309e-02,  5.09979092e-02, -6.86362991e-03,\n",
       "         3.89374495e-01,  7.23795816e-02,  1.83053657e-01,\n",
       "        -1.29545569e-01,  1.57199100e-01, -2.13985324e-01,\n",
       "        -5.17950058e-01,  3.19166064e-01, -3.75553221e-01,\n",
       "        -1.77247643e-01,  6.99123070e-02,  3.62961680e-01,\n",
       "        -3.40977162e-01, -1.30816668e-01, -1.09244734e-01,\n",
       "        -4.44253594e-01, -2.03549519e-01,  2.31807396e-01,\n",
       "        -5.29347718e-01,  3.75502467e-01,  1.94048092e-01,\n",
       "        -3.97830784e-01,  1.31076291e-01,  3.92973661e-01,\n",
       "        -1.49727583e-01, -3.76022190e-01, -1.09517969e-01,\n",
       "        -2.82358170e-01,  4.21526134e-01,  1.32534325e-01,\n",
       "        -3.84529568e-02, -3.41853797e-02,  2.00618103e-01,\n",
       "         4.60628986e-01,  5.67762077e-01, -4.41343397e-01,\n",
       "        -2.12651104e-01, -3.53705674e-01,  3.70596230e-01,\n",
       "         4.20624614e-02,  7.96614438e-02, -3.26683372e-01,\n",
       "        -6.28140522e-03,  3.70670289e-01, -1.35438785e-01,\n",
       "        -4.21717167e-01, -3.51210237e-01, -1.98741347e-01,\n",
       "        -2.01536149e-01, -8.22042763e-01, -2.71349937e-01,\n",
       "         3.90838712e-01, -3.83548051e-01,  1.20336622e-01,\n",
       "        -8.32205266e-02, -3.07741106e-01,  4.77723517e-02,\n",
       "         5.47412515e-01, -4.09587324e-01, -4.98492084e-02,\n",
       "         5.14184594e-01, -3.78865242e-01,  1.67156801e-01,\n",
       "        -2.61155386e-02, -2.68645674e-01, -7.71713182e-02,\n",
       "        -1.06768876e-01, -4.00826558e-02, -2.01347336e-01,\n",
       "         7.06914842e-01, -5.26676774e-01,  3.40038873e-02,\n",
       "         9.05338451e-02, -3.63587528e-01,  6.01047138e-03,\n",
       "         5.34725115e-02,  8.70636627e-02,  5.03176078e-02,\n",
       "        -3.18705738e-01,  2.71842033e-01, -4.89249527e-01,\n",
       "        -5.66382587e-01, -2.22052008e-01, -1.29849851e-01,\n",
       "         3.46566886e-01, -1.22417301e-01, -3.40900958e-01,\n",
       "        -5.06534696e-01,  1.25584170e-01, -5.23187757e-01,\n",
       "         8.35981309e-01,  5.36058620e-02, -3.30081791e-01,\n",
       "         2.97303766e-01,  1.84812397e-01, -3.30413431e-01,\n",
       "         4.31870401e-01,  3.81053984e-01, -4.14007485e-01,\n",
       "         1.86799988e-01,  2.94708908e-01, -6.59315586e-02,\n",
       "         4.65181231e-01,  4.14008588e-01,  1.74900338e-01,\n",
       "         4.90235090e-01, -1.45927802e-01,  3.55261922e-01,\n",
       "        -6.85128629e-01,  2.77611762e-01, -5.65785468e-01,\n",
       "        -4.46358532e-01, -2.16804415e-01,  6.05855644e-01,\n",
       "         6.64427519e-01, -2.56681979e-01, -3.12159304e-02,\n",
       "         1.43667338e-02,  1.28519595e-01,  4.42433923e-01,\n",
       "        -3.91108215e-01, -1.89696535e-01, -2.64345527e-01,\n",
       "        -5.56616127e-01,  5.74205756e-01,  4.48737770e-01,\n",
       "         3.98185909e-01, -3.59947681e-01, -3.91963571e-02,\n",
       "         4.17129844e-01, -9.89981741e-02,  4.13478725e-02,\n",
       "        -2.31188819e-01, -1.04640581e-01,  6.04697406e-01,\n",
       "        -6.95373833e-01, -4.38335508e-01,  4.42138582e-01,\n",
       "         1.99722365e-01,  2.79273778e-01,  3.88470978e-01,\n",
       "         6.06083930e-01,  3.15413207e-01, -4.52423036e-01,\n",
       "         8.34624112e-01,  1.94058135e-01,  3.16268131e-02,\n",
       "         1.95618108e-01,  4.70906258e-01,  1.61750376e-01,\n",
       "         4.54200655e-01,  1.84399545e-01, -1.13392711e-01,\n",
       "        -1.00240372e-01, -3.23709786e-01, -1.93080753e-01,\n",
       "         5.42897284e-01, -5.01348138e-01, -4.40447837e-01,\n",
       "        -1.48358822e-01, -2.25811321e-02, -6.99347854e-01,\n",
       "         1.61956355e-01, -2.72258043e-01,  2.29289830e-01,\n",
       "         1.46945953e-01,  1.96845382e-01,  1.70422792e-01,\n",
       "         7.64404163e-02, -3.02437972e-02, -4.47113812e-01,\n",
       "        -4.20762002e-01,  2.87075639e-01, -2.96079338e-01,\n",
       "        -4.23644662e-01,  2.04189315e-01,  3.05857539e-01,\n",
       "         2.00549364e-02,  4.22879308e-01,  1.42331868e-01,\n",
       "        -3.56864184e-01,  5.46478689e-01,  1.82756752e-01,\n",
       "        -2.23933756e-01,  5.42833626e-01, -4.10552084e-01,\n",
       "        -3.57941836e-01, -1.10411309e-01,  2.22138509e-01,\n",
       "        -3.74864399e-01,  4.73410130e-01,  2.76726903e-03,\n",
       "         4.82443511e-01, -5.00464678e-01,  2.29138613e-01,\n",
       "         3.93564075e-01, -7.92400062e-01, -1.34073958e-01,\n",
       "         4.69496965e-01,  3.68771166e-01, -1.37306154e-01,\n",
       "        -5.25681615e-01, -3.70971441e-01,  1.13602377e-01,\n",
       "        -2.76383936e-01, -2.00448871e-01,  4.53698784e-01,\n",
       "         3.09401751e-02,  4.91653860e-01,  3.84513848e-02,\n",
       "        -3.72707456e-01,  3.35814625e-01, -2.02570930e-01,\n",
       "        -3.98147367e-02,  7.81150209e-03, -2.79697597e-01,\n",
       "        -3.23654473e-01,  3.12850028e-01,  2.15446040e-01,\n",
       "         2.78485268e-01,  3.85690510e-01,  1.32402644e-01,\n",
       "         5.05766273e-01,  8.65653232e-02, -1.60531178e-01,\n",
       "        -1.81502119e-01, -5.34006059e-01, -3.47395003e-01,\n",
       "        -1.60994995e-02,  4.01122302e-01,  5.50219566e-02,\n",
       "        -1.99124098e-01, -6.58596694e-01,  7.84211278e-01,\n",
       "         7.17895776e-02, -5.68658055e-04, -3.42051566e-01,\n",
       "        -6.96917892e-01, -2.83924341e-01,  3.91473860e-01,\n",
       "        -2.64865547e-01,  4.17450890e-02,  1.97024688e-01,\n",
       "         1.29041091e-01,  7.99829364e-02,  3.62371743e-01,\n",
       "        -4.38499212e-01, -7.08648384e-01,  7.73775131e-02,\n",
       "        -1.62531644e-01,  6.13623917e-01, -4.35643733e-01,\n",
       "         1.09937482e-01,  1.11154385e-01, -6.25866413e-01,\n",
       "        -4.41737287e-02, -1.40966596e-02,  7.51370907e-01,\n",
       "         4.53184426e-01, -3.20975661e-01, -6.62630796e-02,\n",
       "         4.07847971e-01, -2.25283638e-01, -5.18336713e-01,\n",
       "        -2.70726025e-01, -4.53299284e-02,  3.19536328e-01,\n",
       "         5.73747754e-01,  1.71730563e-01, -3.40361334e-03,\n",
       "         3.82186800e-01,  3.82494219e-02,  1.30783707e-01,\n",
       "        -5.09228468e-01, -2.17469051e-01, -2.71767676e-01,\n",
       "        -2.47593895e-01, -5.91576576e-01,  1.92815855e-01,\n",
       "        -2.78813243e-01, -3.69249098e-02, -1.03441194e-01,\n",
       "        -4.54151958e-01, -4.73841667e-01,  9.43151303e-03,\n",
       "         2.34828487e-01,  9.52075720e-02, -2.53998399e-01,\n",
       "         4.29028928e-01, -1.84628755e-01, -2.74672627e-01,\n",
       "        -1.94203049e-01,  1.60569176e-01,  4.71093476e-01,\n",
       "        -2.73150951e-01, -2.22610831e-01, -2.48097554e-01,\n",
       "         5.01248360e-01,  5.35130575e-02,  1.45508036e-01,\n",
       "        -5.38909361e-02, -9.90802348e-02,  1.76949516e-01,\n",
       "        -5.80750294e-02, -3.53535324e-01, -4.86298919e-01,\n",
       "        -2.94880331e-01, -2.57680684e-01, -2.13818327e-01,\n",
       "        -1.70768186e-01, -4.27441522e-02, -5.29025123e-02,\n",
       "         2.96149969e-01, -1.86432809e-01, -1.06659293e-01,\n",
       "         1.59634709e-01,  8.86892676e-02,  2.24252511e-02,\n",
       "        -1.21963464e-01,  5.19253351e-02, -3.05297971e-01,\n",
       "        -4.32766229e-01, -3.86890054e-01,  3.00975621e-01,\n",
       "        -3.07112992e-01, -2.22936776e-02,  2.91081935e-01,\n",
       "         2.72240192e-01, -5.26566744e-01, -5.16611747e-02,\n",
       "         5.90262264e-02,  1.08321704e-01, -2.75382698e-01,\n",
       "        -4.34212595e-01,  3.32124755e-02,  1.22253008e-01,\n",
       "        -1.16018437e-01, -2.24908724e-01,  2.69516390e-02,\n",
       "        -7.00636879e-02,  2.07480386e-01, -1.52824119e-01,\n",
       "        -1.73613831e-01,  2.11856306e-01, -3.77879500e-01,\n",
       "         2.13147923e-01, -3.72064769e-01,  1.76033780e-01,\n",
       "         2.86089748e-01,  5.38279772e-01, -2.86669761e-01,\n",
       "        -1.23766266e-01,  2.81873941e-01,  4.66928661e-01,\n",
       "        -2.11820468e-01,  3.64368826e-01, -5.99772096e-01,\n",
       "         7.42197186e-02,  1.79640532e-01,  3.21990758e-01,\n",
       "         1.44976258e-01, -1.74902335e-01,  3.69225927e-02,\n",
       "         2.84415096e-01, -1.78986534e-01, -1.86724901e-01,\n",
       "        -2.86135852e-01,  2.35155284e-01,  6.80883825e-01,\n",
       "        -2.94064075e-01, -3.17088008e-01, -5.87388277e-01,\n",
       "         3.96235168e-01,  3.39840293e-01, -5.27744353e-01,\n",
       "        -1.50559053e-01, -4.29655612e-01, -1.49243549e-01,\n",
       "        -5.59446871e-01, -5.55866480e-01,  5.55643201e-01,\n",
       "         1.99134890e-02,  5.63463010e-02,  2.37334948e-02,\n",
       "        -8.83489326e-02,  3.65026832e-01,  6.37881905e-02,\n",
       "        -1.63240567e-01,  2.30890945e-01, -2.63345838e-01,\n",
       "         1.64586492e-02, -9.56656262e-02,  3.56922299e-01,\n",
       "         1.06434159e-01, -1.90425158e-01,  1.07234888e-01,\n",
       "         4.56017852e-02, -2.04015359e-01, -4.05593395e-01,\n",
       "        -3.13475549e-01,  5.09980582e-02,  1.11520112e-01]], dtype=float32)"
      ]
     },
     "execution_count": 8,
     "metadata": {},
     "output_type": "execute_result"
    }
   ],
   "source": [
    "example_doc._.trf_data.tensors[1]"
   ]
  },
  {
   "attachments": {},
   "cell_type": "markdown",
   "metadata": {},
   "source": [
    "The Transformers object output 16 vectors for a spaCy Doc object of 11 tokens. They don't match.\n",
    "\n",
    "Vocabulary size of all words just in the English language alone is massive, and to learn every unique word would blow up the size of the model.\n",
    "\n",
    "Because Transformers are trained on massive volumes of text, the model's vocabulary must be kept limited.\n",
    "\n",
    "To address the issue, Transformers use more complex tokenizers that identify frequently occuring character sequences in the data and learn embeddings for these sequences instead. These sequences, which are often referred as `subwords`, make up the vocabulary of the Transformer.\n",
    "\n",
    "This information is stored in the attribute `tokens`, which contains a dictionary of subwords under the key `input_texts`."
   ]
  },
  {
   "cell_type": "code",
   "execution_count": 9,
   "metadata": {},
   "outputs": [
    {
     "data": {
      "text/plain": [
       "[['<s>',\n",
       "  'Protect',\n",
       "  'Ġyour',\n",
       "  'Ġcapital',\n",
       "  ',',\n",
       "  'Ġprofits',\n",
       "  'Ġjust',\n",
       "  'Ġfollow',\n",
       "  'Ġ~',\n",
       "  'ĠPaul',\n",
       "  'ĠAld',\n",
       "  'rin',\n",
       "  'ĠEn',\n",
       "  'ri',\n",
       "  'quez',\n",
       "  '</s>']]"
      ]
     },
     "execution_count": 9,
     "metadata": {},
     "output_type": "execute_result"
    }
   ],
   "source": [
    "example_doc._.trf_data.tokens['input_texts']"
   ]
  },
  {
   "cell_type": "markdown",
   "metadata": {},
   "source": [
    "Here we can see how the document has been tokenized. They begin and terminate with the tag `<s>`, and the `Ġ` indicates space. The more interesting part is how my name has been tokenized. \n",
    "`'ĠPaul',`\n",
    "  `'ĠAld',`\n",
    "  `'rin',`\n",
    "  `'ĠEn',`\n",
    "  `'ri',`\n",
    "  `'quez'`\n",
    "\n",
    "This is so because my name is not in the Transformer vocabulary, but the subwords of my name are. Their individual vector representations will be used to construct the vector for each word of my name.\n",
    "\n",
    "This is done for optimization. The subwords that make up the vocabulary are those that occur frequently in the training data the Transformer is trained with."
   ]
  },
  {
   "cell_type": "markdown",
   "metadata": {},
   "source": [
    "To map these vectors to `Tokens` in the spaCy Doc object, we must retrieve alignment information from the `align` attribute of the TransformerData object.\n",
    "\n",
    "The `align` attribute can be indexed using the indices of Token objects in the Doc object.\n",
    "\n",
    "To exemplify, we can retrieve the last Token \"Enriquez\" in the Doc object doc using the expression `example_doc[0]`.\n",
    "\n",
    "We then use the index of this Token in the Doc object to retrieve alignment data, which is stored under the `align` attribute.\n",
    "\n",
    "More specifically, we need the information stored under the attribute `data`."
   ]
  },
  {
   "cell_type": "code",
   "execution_count": 10,
   "metadata": {},
   "outputs": [
    {
     "data": {
      "text/plain": [
       "(Enriquez,\n",
       " array([[12],\n",
       "        [13],\n",
       "        [14]]))"
      ]
     },
     "execution_count": 10,
     "metadata": {},
     "output_type": "execute_result"
    }
   ],
   "source": [
    "#Get the last spaCy Token, \"Enriquez\", and its alignment data\n",
    "example_doc[-1], example_doc._.trf_data.align[-1].data"
   ]
  },
  {
   "attachments": {},
   "cell_type": "markdown",
   "metadata": {},
   "source": [
    "In this case, vectors at indices 12, 13 and 14 in the batch of 31 vectors contain the representation for \"Enriquez\".\n",
    "\n",
    "To use the contextual embeddings from the Transformer efficiently, we can define a component that retrieves contextual word embeddings for Docs, Spans and Tokens and add this component to the spaCy pipeline.\n",
    "\n",
    "This can be achieved by creating a new Python Class. Because the new Class will become a component of the spaCy pipeline, we must first import the Language object and let spaCy know that we are now defining a new pipeline component."
   ]
  },
  {
   "cell_type": "code",
   "execution_count": 11,
   "metadata": {},
   "outputs": [],
   "source": [
    "# Import the Language object under the 'language' module in spaCy,\n",
    "# and NumPy for calculating cosine similarity.\n",
    "from spacy.language import Language\n",
    "import numpy as np\n",
    "\n",
    "# We use the @ character to register the following Class definition\n",
    "# with spaCy under the name 'tensor2attr'.\n",
    "@Language.factory('tensor2attr')\n",
    "\n",
    "# We begin by declaring the class name: Tensor2Attr. The name is \n",
    "# declared using 'class', followed by the name and a colon.\n",
    "class Tensor2Attr:\n",
    "    \n",
    "    # We continue by defining the first method of the class, \n",
    "    # __init__(), which is called when this class is used for \n",
    "    # creating a Python object. Custom components in spaCy \n",
    "    # require passing two variables to the __init__() method:\n",
    "    # 'name' and 'nlp'. The variable 'self' refers to any\n",
    "    # object created using this class!\n",
    "    def __init__(self, name, nlp):\n",
    "        \n",
    "        # We do not really do anything with this class, so we\n",
    "        # simply move on using 'pass' when the object is created.\n",
    "        pass\n",
    "\n",
    "    # The __call__() method is called whenever some other object\n",
    "    # is passed to an object representing this class. Since we know\n",
    "    # that the class is a part of the spaCy pipeline, we already know\n",
    "    # that it will receive Doc objects from the preceding layers.\n",
    "    # We use the variable 'doc' to refer to any object received.\n",
    "    def __call__(self, doc):\n",
    "        \n",
    "        # When an object is received, the class will instantly pass\n",
    "        # the object forward to the 'add_attributes' method. The\n",
    "        # reference to self informs Python that the method belongs\n",
    "        # to this class.\n",
    "        self.add_attributes(doc)\n",
    "        \n",
    "        # After the 'add_attributes' method finishes, the __call__\n",
    "        # method returns the object.\n",
    "        return doc\n",
    "    \n",
    "    # Next, we define the 'add_attributes' method that will modify\n",
    "    # the incoming Doc object by calling a series of methods.\n",
    "    def add_attributes(self, doc):\n",
    "        \n",
    "        # spaCy Doc objects have an attribute named 'user_hooks',\n",
    "        # which allows customising the default attributes of a \n",
    "        # Doc object, such as 'vector'. We use the 'user_hooks'\n",
    "        # attribute to replace the attribute 'vector' with the \n",
    "        # Transformer output, which is retrieved using the \n",
    "        # 'doc_tensor' method defined below.\n",
    "        doc.user_hooks['vector'] = self.doc_tensor\n",
    "        \n",
    "        # We then perform the same for both Spans and Tokens that\n",
    "        # are contained within the Doc object.\n",
    "        doc.user_span_hooks['vector'] = self.span_tensor\n",
    "        doc.user_token_hooks['vector'] = self.token_tensor\n",
    "        \n",
    "        # We also replace the 'similarity' method, because the \n",
    "        # default 'similarity' method looks at the default 'vector'\n",
    "        # attribute, which is empty! We must first replace the\n",
    "        # vectors using the 'user_hooks' attribute.\n",
    "        doc.user_hooks['similarity'] = self.get_similarity\n",
    "        doc.user_span_hooks['similarity'] = self.get_similarity\n",
    "        doc.user_token_hooks['similarity'] = self.get_similarity\n",
    "    \n",
    "    # Define a method that takes a Doc object as input and returns \n",
    "    # Transformer output for the entire Doc.\n",
    "    def doc_tensor(self, doc):\n",
    "        \n",
    "        # Return Transformer output for the entire Doc. As noted\n",
    "        # above, this is the last item under the attribute 'tensor'.\n",
    "        # Average the output along axis 0 to handle batched outputs.\n",
    "        return doc._.trf_data.tensors[-1].mean(axis=0)\n",
    "    \n",
    "    # Define a method that takes a Span as input and returns the Transformer \n",
    "    # output.\n",
    "    def span_tensor(self, span):\n",
    "        \n",
    "        # Get alignment information for Span. This is achieved by using\n",
    "        # the 'doc' attribute of Span that refers to the Doc that contains\n",
    "        # this Span. We then use the 'start' and 'end' attributes of a Span\n",
    "        # to retrieve the alignment information. Finally, we flatten the\n",
    "        # resulting array to use it for indexing.\n",
    "        tensor_ix = span.doc._.trf_data.align[span.start: span.end].data.flatten()\n",
    "        \n",
    "        # Fetch Transformer output shape from the final dimension of the output.\n",
    "        # We do this here to maintain compatibility with different Transformers,\n",
    "        # which may output tensors of different shape.\n",
    "        out_dim = span.doc._.trf_data.tensors[0].shape[-1]\n",
    "        \n",
    "        # Get Token tensors under tensors[0]. Reshape batched outputs so that\n",
    "        # each \"row\" in the matrix corresponds to a single token. This is needed\n",
    "        # for matching alignment information under 'tensor_ix' to the Transformer\n",
    "        # output.\n",
    "        tensor = span.doc._.trf_data.tensors[0].reshape(-1, out_dim)[tensor_ix]\n",
    "        \n",
    "        # Average vectors along axis 0 (\"columns\"). This yields a 768-dimensional\n",
    "        # vector for each spaCy Span.\n",
    "        return tensor.mean(axis=0)\n",
    "    \n",
    "    # Define a function that takes a Token as input and returns the Transformer\n",
    "    # output.\n",
    "    def token_tensor(self, token):\n",
    "        \n",
    "        # Get alignment information for Token; flatten array for indexing.\n",
    "        # Again, we use the 'doc' attribute of a Token to get the parent Doc,\n",
    "        # which contains the Transformer output.\n",
    "        tensor_ix = token.doc._.trf_data.align[token.i].data.flatten()\n",
    "        \n",
    "        # Fetch Transformer output shape from the final dimension of the output.\n",
    "        # We do this here to maintain compatibility with different Transformers,\n",
    "        # which may output tensors of different shape.\n",
    "        out_dim = token.doc._.trf_data.tensors[0].shape[-1]\n",
    "        \n",
    "        # Get Token tensors under tensors[0]. Reshape batched outputs so that\n",
    "        # each \"row\" in the matrix corresponds to a single token. This is needed\n",
    "        # for matching alignment information under 'tensor_ix' to the Transformer\n",
    "        # output.\n",
    "        tensor = token.doc._.trf_data.tensors[0].reshape(-1, out_dim)[tensor_ix]\n",
    "\n",
    "        # Average vectors along axis 0 (columns). This yields a 768-dimensional\n",
    "        # vector for each spaCy Token.\n",
    "        return tensor.mean(axis=0)\n",
    "    \n",
    "    # Define a function for calculating cosine similarity between vectors\n",
    "    def get_similarity(self, doc1, doc2):\n",
    "        \n",
    "        # Calculate and return cosine similarity\n",
    "        return np.dot(doc1.vector, doc2.vector) / (doc1.vector_norm * doc2.vector_norm)"
   ]
  },
  {
   "cell_type": "markdown",
   "metadata": {},
   "source": [
    "With the Class Tensor2Attr defined, we can now add it to the pipeline by referring to the name we registered with spaCy using `@Language.factory()`, that is, `tensor2attr`."
   ]
  },
  {
   "cell_type": "code",
   "execution_count": 12,
   "metadata": {},
   "outputs": [
    {
     "data": {
      "text/plain": [
       "[('transformer',\n",
       "  <spacy_transformers.pipeline_component.Transformer at 0x20e5da7db20>),\n",
       " ('tagger', <spacy.pipeline.tagger.Tagger at 0x20e5da7df40>),\n",
       " ('parser', <spacy.pipeline.dep_parser.DependencyParser at 0x20e5da930b0>),\n",
       " ('attribute_ruler',\n",
       "  <spacy.pipeline.attributeruler.AttributeRuler at 0x20e5daca300>),\n",
       " ('lemmatizer', <spacy.lang.en.lemmatizer.EnglishLemmatizer at 0x20e5dacfc80>),\n",
       " ('ner', <spacy.pipeline.ner.EntityRecognizer at 0x20e5da93200>),\n",
       " ('tensor2attr', <__main__.Tensor2Attr at 0x20e5f7b0d60>)]"
      ]
     },
     "execution_count": 12,
     "metadata": {},
     "output_type": "execute_result"
    }
   ],
   "source": [
    "# Add the component named 'tensor2attr', which we registered using the\n",
    "# @Language decorator and its 'factory' method to the pipeline.\n",
    "nlp_trf.add_pipe('tensor2attr')\n",
    "\n",
    "# Call the 'pipeline' attribute to examine the pipeline\n",
    "nlp_trf.pipeline"
   ]
  },
  {
   "cell_type": "markdown",
   "metadata": {},
   "source": [
    "This component stores the Transformer-based contextual embeddings for Docs, Spans and Tokens under the vector attribute.\n",
    "\n",
    "Let's explore contextual embeddings by defining two Doc objects and feeding them to the Transformer-based language model under `nlp_trf`."
   ]
  },
  {
   "cell_type": "code",
   "execution_count": 13,
   "metadata": {},
   "outputs": [],
   "source": [
    "# Define two example sentences and process them using the Transformer-based\n",
    "# language model under 'nlp_trf'.\n",
    "doc_city_trf = nlp_trf(\"Manila is the capital of the Philippines.\")\n",
    "doc_money_trf = nlp_trf(\"Protect your capital, profits just follow.\")"
   ]
  },
  {
   "cell_type": "markdown",
   "metadata": {},
   "source": [
    "The noun `\"capital\"` has two different meanings in these sentences: in doc_city_trf, `\"capital\"` refers to a `city`, whereas in doc_money_trf the word refers to `money`.\n",
    "\n",
    "The Transformer should encode this difference into the resulting vector based on the context in which the word occurs.\n",
    "\n",
    "Let's fetch the Token corresponding to `\"capital\"` in each example and retrieve their vector representations under the `vector` attribute."
   ]
  },
  {
   "cell_type": "code",
   "execution_count": 14,
   "metadata": {},
   "outputs": [
    {
     "data": {
      "text/plain": [
       "0.67417926"
      ]
     },
     "execution_count": 14,
     "metadata": {},
     "output_type": "execute_result"
    }
   ],
   "source": [
    "# Retrieve vectors for the two Tokens corresponding to \"capital\";\n",
    "# assign to variables 'city_trf' and 'money_trf'.\n",
    "city_trf = doc_city_trf[3]\n",
    "money_trf = doc_money_trf[2]\n",
    "\n",
    "# Compare the similarity of the two meanings of 'capital'\n",
    "city_trf.similarity(money_trf)"
   ]
  },
  {
   "cell_type": "markdown",
   "metadata": {},
   "source": [
    "Cosine similarity is `less than 1`, which means that their vector representations even they are the same word `capital` are different. This is because the Transformer also encodes information abouth their context of occurence into the vectors, which has allowed it to learn that the same linguistic form may have different meanings in different contexts.\n",
    "\n",
    "This stands in stark contrast to `static` word embeddings, as shown below using a large language model for English in spaCy `en_core_web_lg`."
   ]
  },
  {
   "cell_type": "code",
   "execution_count": 17,
   "metadata": {},
   "outputs": [
    {
     "data": {
      "text/plain": [
       "1.0"
      ]
     },
     "execution_count": 17,
     "metadata": {},
     "output_type": "execute_result"
    }
   ],
   "source": [
    "# Define two example sentences and process them using the large language model\n",
    "# en_core_web_lg is a large language model for English, which contains word vectors for 685 000 Token objects.\n",
    "\n",
    "# Load a large language model and assign it to the variable 'nlp_lg'\n",
    "nlp_lg = spacy.load('en_core_web_lg')\n",
    "doc_city_lg = nlp_lg(\"Manila is the capital of the Philippines.\")\n",
    "doc_money_lg = nlp_lg(\"Protect your capital, profits just follow.\")\n",
    "\n",
    "# Retrieve vectors for the two Tokens corresponding to \"capital\";\n",
    "# assign to variables 'city_lg' and 'money_lg'.\n",
    "city_lg = doc_city_lg[3]\n",
    "money_lg = doc_money_lg[2]\n",
    "\n",
    "# Compare the similarity of the two meanings of 'capital'\n",
    "city_lg.similarity(money_lg)"
   ]
  },
  {
   "cell_type": "markdown",
   "metadata": {},
   "source": [
    "As you can see, the vectors for the word `\"capital\"` are identical `(cosine similarity of 1)`, because the word embeddings do not encode information about the context in which the word occurs."
   ]
  },
  {
   "cell_type": "markdown",
   "metadata": {},
   "source": [
    "#### **End. Thank you!**"
   ]
  }
 ],
 "metadata": {
  "kernelspec": {
   "display_name": "Python 3 (ipykernel)",
   "language": "python",
   "name": "python3"
  },
  "language_info": {
   "codemirror_mode": {
    "name": "ipython",
    "version": 3
   },
   "file_extension": ".py",
   "mimetype": "text/x-python",
   "name": "python",
   "nbconvert_exporter": "python",
   "pygments_lexer": "ipython3",
   "version": "3.9.13"
  },
  "vscode": {
   "interpreter": {
    "hash": "dcad393ebe0ddd96229d28636729608eefe2a539d1a2b16c2babaf1f7828873b"
   }
  }
 },
 "nbformat": 4,
 "nbformat_minor": 2
}
