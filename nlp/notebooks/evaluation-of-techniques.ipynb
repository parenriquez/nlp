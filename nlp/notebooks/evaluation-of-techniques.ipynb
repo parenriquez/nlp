{
 "cells": [
  {
   "cell_type": "code",
   "execution_count": 1,
   "metadata": {},
   "outputs": [],
   "source": [
    "import pandas as pd\n",
    "import joblib\n",
    "\n",
    "from sklearn import metrics\n",
    "from sklearn.model_selection import cross_validate\n",
    "\n",
    "from sklearn.linear_model import LogisticRegression"
   ]
  },
  {
   "cell_type": "markdown",
   "metadata": {},
   "source": [
    "#### **Evaluation of Feature Extraction Techniques**"
   ]
  },
  {
   "cell_type": "markdown",
   "metadata": {},
   "source": [
    "**Loading the tokenized tweets**"
   ]
  },
  {
   "cell_type": "code",
   "execution_count": 2,
   "metadata": {},
   "outputs": [
    {
     "data": {
      "text/plain": [
       "array(['arirang simply kpop kim hyung jun cross ha yeong playback',\n",
       "       'read politico article donald trump running mate tom brady list likely choice',\n",
       "       'type bazura project google image image photo dad glenn moustache whatthe',\n",
       "       ..., 'bring dunkin iced coffee tomorrow hero',\n",
       "       'currently holiday portugal come home tomorrow poland tuesday holocaust memorial trip',\n",
       "       'ladykiller saturday aternoon'], dtype=object)"
      ]
     },
     "execution_count": 2,
     "metadata": {},
     "output_type": "execute_result"
    }
   ],
   "source": [
    "tweets_train_tokenized = pd.read_csv('csvs/tweets_train_tokens.csv', index_col=False)\n",
    "tweets_train_tokenized_message = pd.Series(tweets_train_tokenized.message)\n",
    "# Converting Panda series into Unicode datatype as required by vectorizers\n",
    "tweets = tweets_train_tokenized_message.astype('U').values\n",
    "tweets"
   ]
  },
  {
   "cell_type": "markdown",
   "metadata": {},
   "source": [
    "**Loading the tweets targets**"
   ]
  },
  {
   "cell_type": "code",
   "execution_count": 3,
   "metadata": {},
   "outputs": [
    {
     "data": {
      "text/plain": [
       "array([1, 1, 1, ..., 1, 1, 1], dtype=int64)"
      ]
     },
     "execution_count": 3,
     "metadata": {},
     "output_type": "execute_result"
    }
   ],
   "source": [
    "tweets_train_y = pd.read_csv('csvs/tweets_train_y.csv', index_col=False)\n",
    "tweets_train_y = pd.Series(tweets_train_y['0'])\n",
    "tweets_train_y = tweets_train_y.values\n",
    "tweets_train_y"
   ]
  },
  {
   "cell_type": "markdown",
   "metadata": {},
   "source": [
    "**Evaluation function**"
   ]
  },
  {
   "cell_type": "markdown",
   "metadata": {},
   "source": [
    "We define a function to calculate **Macro Recall**, **Accuracy** and **Macro F1** *(only over the positive and negative classes)* as our *PERFORMANCE* METRICS. \n",
    "\n",
    "**Macro Recall** will serve as our primary metric for evaluation.\n",
    "\n",
    "We will evaluate our model on these 3 metrics through **5-fold cross-validation**. We will also measure the **recall of the negative class** since it is the minority one, and the one we should pay the most attention too."
   ]
  },
  {
   "cell_type": "code",
   "execution_count": 4,
   "metadata": {},
   "outputs": [],
   "source": [
    "labels_codes = {'negative': 0, 'neutral': 1, 'positive': 2}\n",
    "\n",
    "f1_pos_neg = metrics.make_scorer(\n",
    "    metrics.f1_score, average=\"macro\", labels=[labels_codes[\"negative\"], labels_codes[\"positive\"]]\n",
    ")\n",
    "# micro-recall\n",
    "#'micro' - Calculate metrics globally by counting the total true positives, false negatives and false positives.\n",
    "# we cannot use pos-label = 0 discussed in specificity here because we have a multi-class classification, not binary\n",
    "# label=[pos-label] will report scores for that label only\n",
    "recall_neg = metrics.make_scorer(metrics.recall_score, average=\"micro\", labels=[labels_codes[\"negative\"]])\n",
    "\n",
    "\n",
    "def evaluate_model(model, features, labels, cv=5, fit_params=None):\n",
    "    scores = cross_validate(\n",
    "        model,\n",
    "        features,\n",
    "        labels,\n",
    "        cv=cv,\n",
    "        fit_params=fit_params,\n",
    "        scoring={\n",
    "            \"recall_macro\": \"recall_macro\",\n",
    "            \"f1_pos_neg\": f1_pos_neg,\n",
    "            \"accuracy\": \"accuracy\",\n",
    "            \"recall_neg\": recall_neg,\n",
    "        },\n",
    "        n_jobs=-1,  # this means that each metric will be computed using all cores of your computer processing unit\n",
    "    )\n",
    "\n",
    "    results = pd.DataFrame(scores).drop([\"fit_time\", \"score_time\"], axis=1)\n",
    "    results.columns = pd.MultiIndex.from_tuples([c.split(\"_\", maxsplit=1) for c in results.columns])\n",
    "    summary = results.describe()\n",
    "    results = pd.concat([results, summary.loc[[\"mean\", \"std\"]]])\n",
    "\n",
    "    def custom_style(row):\n",
    "        color = \"white\"\n",
    "        if row.name == \"mean\":\n",
    "            color = \"orange\"\n",
    "        return [\"background-color: %s\" % color] * len(row.values)\n",
    "\n",
    "    results = results[sorted(results.columns, key=lambda x: x[0], reverse=True)]\n",
    "    results = results.style.apply(custom_style, axis=1)\n",
    "\n",
    "    return results"
   ]
  },
  {
   "cell_type": "markdown",
   "metadata": {},
   "source": [
    "**Loading the vectors**"
   ]
  },
  {
   "cell_type": "markdown",
   "metadata": {},
   "source": [
    "**a. TF-IDF tweets**"
   ]
  },
  {
   "cell_type": "code",
   "execution_count": 5,
   "metadata": {},
   "outputs": [
    {
     "data": {
      "text/plain": [
       "<49675x5000 sparse matrix of type '<class 'numpy.float64'>'\n",
       "\twith 426709 stored elements in Compressed Sparse Row format>"
      ]
     },
     "execution_count": 5,
     "metadata": {},
     "output_type": "execute_result"
    }
   ],
   "source": [
    "tfidf_tweets = joblib.load('./vectors/tfidf_tweets.sav')\n",
    "tfidf_tweets"
   ]
  },
  {
   "cell_type": "markdown",
   "metadata": {},
   "source": [
    "**b. Keras embedded tweets**"
   ]
  },
  {
   "cell_type": "code",
   "execution_count": 6,
   "metadata": {},
   "outputs": [
    {
     "data": {
      "text/plain": [
       "array([[ 0.02011312, -0.00384263, -0.03569106, ...,  0.02549319,\n",
       "         0.03361343, -0.00767218],\n",
       "       [ 0.02011312, -0.00384263, -0.03569106, ...,  0.0429675 ,\n",
       "         0.03223759, -0.04315708],\n",
       "       [ 0.02011312, -0.00384263, -0.03569106, ..., -0.0283402 ,\n",
       "        -0.02560207, -0.009534  ],\n",
       "       ...,\n",
       "       [ 0.02011312, -0.00384263, -0.03569106, ..., -0.01660419,\n",
       "        -0.03300374,  0.00409142],\n",
       "       [ 0.02011312, -0.00384263, -0.03569106, ...,  0.03942401,\n",
       "        -0.04004568, -0.00603427],\n",
       "       [ 0.02011312, -0.00384263, -0.03569106, ...,  0.0034272 ,\n",
       "        -0.02500931,  0.04393745]], dtype=float32)"
      ]
     },
     "execution_count": 6,
     "metadata": {},
     "output_type": "execute_result"
    }
   ],
   "source": [
    "keras_model_tweets = joblib.load('./vectors/keras_model_tweets.sav')\n",
    "keras_model_tweets"
   ]
  },
  {
   "cell_type": "markdown",
   "metadata": {},
   "source": [
    "**c. Word2Vec tweets**"
   ]
  },
  {
   "cell_type": "code",
   "execution_count": 7,
   "metadata": {},
   "outputs": [
    {
     "data": {
      "text/plain": [
       "array([[ 0.43820262, -0.4754556 ,  0.11711419, ...,  0.8534837 ,\n",
       "        -1.470024  , -0.72018313],\n",
       "       [ 0.8019137 , -1.0742214 ,  0.6273    , ...,  0.96964335,\n",
       "        -2.5701778 , -1.698925  ],\n",
       "       [ 0.7749731 , -0.4721202 ,  0.4301789 , ...,  1.0060902 ,\n",
       "        -1.4998134 , -0.62398565],\n",
       "       ...,\n",
       "       [ 1.2551143 , -0.6130551 ,  0.83693   , ...,  1.9660778 ,\n",
       "        -1.5066313 , -1.1546358 ],\n",
       "       [ 1.0965337 , -0.71529126,  0.89206046, ...,  1.8730817 ,\n",
       "        -1.32547   , -0.6296154 ],\n",
       "       [ 0.16459951, -0.8970738 ,  0.19940762, ...,  2.136376  ,\n",
       "        -0.63419354,  0.01595367]], dtype=float32)"
      ]
     },
     "execution_count": 7,
     "metadata": {},
     "output_type": "execute_result"
    }
   ],
   "source": [
    "word2vec_tweets = joblib.load('./vectors/word2vec_tweets.sav')\n",
    "word2vec_tweets"
   ]
  },
  {
   "cell_type": "markdown",
   "metadata": {},
   "source": [
    "**d. fastText tweets**"
   ]
  },
  {
   "cell_type": "code",
   "execution_count": 8,
   "metadata": {},
   "outputs": [
    {
     "data": {
      "text/plain": [
       "array([[ 1.7083393 ,  0.16257861, -0.3256186 , ...,  1.6048752 ,\n",
       "        -0.6958239 , -0.861176  ],\n",
       "       [ 1.4671383 ,  0.27155647, -2.1007617 , ...,  2.8497617 ,\n",
       "        -0.8527399 , -0.83536667],\n",
       "       [ 1.7470719 ,  0.10171478, -0.4181965 , ...,  1.5183479 ,\n",
       "        -0.21019751, -0.65540004],\n",
       "       ...,\n",
       "       [ 1.5684685 , -0.18233915, -0.61222434, ...,  1.6030623 ,\n",
       "        -1.0378721 , -1.6156934 ],\n",
       "       [ 1.7817134 ,  0.7445152 , -0.77702844, ...,  2.0351388 ,\n",
       "        -0.6231385 , -1.0140816 ],\n",
       "       [ 1.2703185 ,  1.3933463 , -0.4189272 , ...,  2.0525815 ,\n",
       "        -0.8890051 , -1.0568657 ]], dtype=float32)"
      ]
     },
     "execution_count": 8,
     "metadata": {},
     "output_type": "execute_result"
    }
   ],
   "source": [
    "fasttext_tweets = joblib.load('./vectors/fasttext_tweets.sav')\n",
    "fasttext_tweets"
   ]
  },
  {
   "cell_type": "markdown",
   "metadata": {},
   "source": [
    "**e. Doc2Vec tweets**"
   ]
  },
  {
   "cell_type": "code",
   "execution_count": 9,
   "metadata": {},
   "outputs": [
    {
     "data": {
      "text/plain": [
       "array([[-0.09706153,  0.00836273, -0.10036916, ..., -0.05951937,\n",
       "        -0.12229338, -0.02943969],\n",
       "       [ 0.0768654 ,  0.11051423, -0.14390431, ...,  0.15714288,\n",
       "        -0.1072313 , -0.10160755],\n",
       "       [-0.03059013,  0.0757471 ,  0.00896006, ..., -0.16501954,\n",
       "         0.01974987, -0.09750597],\n",
       "       ...,\n",
       "       [ 0.03058317, -0.04542535,  0.02273304, ...,  0.00468193,\n",
       "        -0.12863246, -0.12644576],\n",
       "       [ 0.08006796, -0.18050203,  0.09373045, ...,  0.01869539,\n",
       "        -0.16327702, -0.09766775],\n",
       "       [ 0.03441153,  0.00589671, -0.02517486, ...,  0.08582754,\n",
       "        -0.00996797, -0.01485144]], dtype=float32)"
      ]
     },
     "execution_count": 9,
     "metadata": {},
     "output_type": "execute_result"
    }
   ],
   "source": [
    "doc2vec_tweets = joblib.load('./vectors/doc2vec_tweets.sav')\n",
    "doc2vec_tweets"
   ]
  },
  {
   "cell_type": "markdown",
   "metadata": {},
   "source": [
    "**Baseline model**"
   ]
  },
  {
   "cell_type": "code",
   "execution_count": 10,
   "metadata": {},
   "outputs": [],
   "source": [
    "# multi_class='multimonial' to specify that we want to use Softmax/cross-entropy loss (and not 3 different binary classifiers)\n",
    "# solver='lbfgs' to pick a solver that supports Softmax\n",
    "# class_weight='balanced' to give more importance to the less represented classes during training (i.e. negative messages)\n",
    "log_reg = LogisticRegression(multi_class=\"multinomial\", solver=\"lbfgs\", class_weight=\"balanced\", max_iter=5000)"
   ]
  },
  {
   "cell_type": "markdown",
   "metadata": {},
   "source": [
    "**Evaluation Proper**"
   ]
  },
  {
   "cell_type": "markdown",
   "metadata": {},
   "source": [
    "a. TF-IDF tweets"
   ]
  },
  {
   "cell_type": "code",
   "execution_count": 11,
   "metadata": {},
   "outputs": [
    {
     "data": {
      "text/html": [
       "<style type=\"text/css\">\n",
       "#T_d6e80_row0_col0, #T_d6e80_row0_col1, #T_d6e80_row0_col2, #T_d6e80_row0_col3, #T_d6e80_row1_col0, #T_d6e80_row1_col1, #T_d6e80_row1_col2, #T_d6e80_row1_col3, #T_d6e80_row2_col0, #T_d6e80_row2_col1, #T_d6e80_row2_col2, #T_d6e80_row2_col3, #T_d6e80_row3_col0, #T_d6e80_row3_col1, #T_d6e80_row3_col2, #T_d6e80_row3_col3, #T_d6e80_row4_col0, #T_d6e80_row4_col1, #T_d6e80_row4_col2, #T_d6e80_row4_col3, #T_d6e80_row6_col0, #T_d6e80_row6_col1, #T_d6e80_row6_col2, #T_d6e80_row6_col3 {\n",
       "  background-color: white;\n",
       "}\n",
       "#T_d6e80_row5_col0, #T_d6e80_row5_col1, #T_d6e80_row5_col2, #T_d6e80_row5_col3 {\n",
       "  background-color: orange;\n",
       "}\n",
       "</style>\n",
       "<table id=\"T_d6e80\">\n",
       "  <thead>\n",
       "    <tr>\n",
       "      <th class=\"blank level0\" >&nbsp;</th>\n",
       "      <th id=\"T_d6e80_level0_col0\" class=\"col_heading level0 col0\" colspan=\"4\">test</th>\n",
       "    </tr>\n",
       "    <tr>\n",
       "      <th class=\"blank level1\" >&nbsp;</th>\n",
       "      <th id=\"T_d6e80_level1_col0\" class=\"col_heading level1 col0\" >recall_macro</th>\n",
       "      <th id=\"T_d6e80_level1_col1\" class=\"col_heading level1 col1\" >f1_pos_neg</th>\n",
       "      <th id=\"T_d6e80_level1_col2\" class=\"col_heading level1 col2\" >accuracy</th>\n",
       "      <th id=\"T_d6e80_level1_col3\" class=\"col_heading level1 col3\" >recall_neg</th>\n",
       "    </tr>\n",
       "  </thead>\n",
       "  <tbody>\n",
       "    <tr>\n",
       "      <th id=\"T_d6e80_level0_row0\" class=\"row_heading level0 row0\" >0</th>\n",
       "      <td id=\"T_d6e80_row0_col0\" class=\"data row0 col0\" >0.626513</td>\n",
       "      <td id=\"T_d6e80_row0_col1\" class=\"data row0 col1\" >0.596663</td>\n",
       "      <td id=\"T_d6e80_row0_col2\" class=\"data row0 col2\" >0.622446</td>\n",
       "      <td id=\"T_d6e80_row0_col3\" class=\"data row0 col3\" >0.635249</td>\n",
       "    </tr>\n",
       "    <tr>\n",
       "      <th id=\"T_d6e80_level0_row1\" class=\"row_heading level0 row1\" >1</th>\n",
       "      <td id=\"T_d6e80_row1_col0\" class=\"data row1 col0\" >0.635832</td>\n",
       "      <td id=\"T_d6e80_row1_col1\" class=\"data row1 col1\" >0.606322</td>\n",
       "      <td id=\"T_d6e80_row1_col2\" class=\"data row1 col2\" >0.626472</td>\n",
       "      <td id=\"T_d6e80_row1_col3\" class=\"data row1 col3\" >0.663871</td>\n",
       "    </tr>\n",
       "    <tr>\n",
       "      <th id=\"T_d6e80_level0_row2\" class=\"row_heading level0 row2\" >2</th>\n",
       "      <td id=\"T_d6e80_row2_col0\" class=\"data row2 col0\" >0.632532</td>\n",
       "      <td id=\"T_d6e80_row2_col1\" class=\"data row2 col1\" >0.600897</td>\n",
       "      <td id=\"T_d6e80_row2_col2\" class=\"data row2 col2\" >0.630700</td>\n",
       "      <td id=\"T_d6e80_row2_col3\" class=\"data row2 col3\" >0.634839</td>\n",
       "    </tr>\n",
       "    <tr>\n",
       "      <th id=\"T_d6e80_level0_row3\" class=\"row_heading level0 row3\" >3</th>\n",
       "      <td id=\"T_d6e80_row3_col0\" class=\"data row3 col0\" >0.632406</td>\n",
       "      <td id=\"T_d6e80_row3_col1\" class=\"data row3 col1\" >0.601818</td>\n",
       "      <td id=\"T_d6e80_row3_col2\" class=\"data row3 col2\" >0.632209</td>\n",
       "      <td id=\"T_d6e80_row3_col3\" class=\"data row3 col3\" >0.629677</td>\n",
       "    </tr>\n",
       "    <tr>\n",
       "      <th id=\"T_d6e80_level0_row4\" class=\"row_heading level0 row4\" >4</th>\n",
       "      <td id=\"T_d6e80_row4_col0\" class=\"data row4 col0\" >0.632781</td>\n",
       "      <td id=\"T_d6e80_row4_col1\" class=\"data row4 col1\" >0.602636</td>\n",
       "      <td id=\"T_d6e80_row4_col2\" class=\"data row4 col2\" >0.630398</td>\n",
       "      <td id=\"T_d6e80_row4_col3\" class=\"data row4 col3\" >0.635249</td>\n",
       "    </tr>\n",
       "    <tr>\n",
       "      <th id=\"T_d6e80_level0_row5\" class=\"row_heading level0 row5\" >mean</th>\n",
       "      <td id=\"T_d6e80_row5_col0\" class=\"data row5 col0\" >0.632013</td>\n",
       "      <td id=\"T_d6e80_row5_col1\" class=\"data row5 col1\" >0.601667</td>\n",
       "      <td id=\"T_d6e80_row5_col2\" class=\"data row5 col2\" >0.628445</td>\n",
       "      <td id=\"T_d6e80_row5_col3\" class=\"data row5 col3\" >0.639777</td>\n",
       "    </tr>\n",
       "    <tr>\n",
       "      <th id=\"T_d6e80_level0_row6\" class=\"row_heading level0 row6\" >std</th>\n",
       "      <td id=\"T_d6e80_row6_col0\" class=\"data row6 col0\" >0.003385</td>\n",
       "      <td id=\"T_d6e80_row6_col1\" class=\"data row6 col1\" >0.003474</td>\n",
       "      <td id=\"T_d6e80_row6_col2\" class=\"data row6 col2\" >0.003967</td>\n",
       "      <td id=\"T_d6e80_row6_col3\" class=\"data row6 col3\" >0.013674</td>\n",
       "    </tr>\n",
       "  </tbody>\n",
       "</table>\n"
      ],
      "text/plain": [
       "<pandas.io.formats.style.Styler at 0x1fa496f8be0>"
      ]
     },
     "execution_count": 11,
     "metadata": {},
     "output_type": "execute_result"
    }
   ],
   "source": [
    "evaluate_model(log_reg, tfidf_tweets, tweets_train_y)"
   ]
  },
  {
   "cell_type": "markdown",
   "metadata": {},
   "source": [
    "b. Keras embedded tweets"
   ]
  },
  {
   "cell_type": "code",
   "execution_count": 12,
   "metadata": {},
   "outputs": [
    {
     "data": {
      "text/html": [
       "<style type=\"text/css\">\n",
       "#T_3a660_row0_col0, #T_3a660_row0_col1, #T_3a660_row0_col2, #T_3a660_row0_col3, #T_3a660_row1_col0, #T_3a660_row1_col1, #T_3a660_row1_col2, #T_3a660_row1_col3, #T_3a660_row2_col0, #T_3a660_row2_col1, #T_3a660_row2_col2, #T_3a660_row2_col3, #T_3a660_row3_col0, #T_3a660_row3_col1, #T_3a660_row3_col2, #T_3a660_row3_col3, #T_3a660_row4_col0, #T_3a660_row4_col1, #T_3a660_row4_col2, #T_3a660_row4_col3, #T_3a660_row6_col0, #T_3a660_row6_col1, #T_3a660_row6_col2, #T_3a660_row6_col3 {\n",
       "  background-color: white;\n",
       "}\n",
       "#T_3a660_row5_col0, #T_3a660_row5_col1, #T_3a660_row5_col2, #T_3a660_row5_col3 {\n",
       "  background-color: orange;\n",
       "}\n",
       "</style>\n",
       "<table id=\"T_3a660\">\n",
       "  <thead>\n",
       "    <tr>\n",
       "      <th class=\"blank level0\" >&nbsp;</th>\n",
       "      <th id=\"T_3a660_level0_col0\" class=\"col_heading level0 col0\" colspan=\"4\">test</th>\n",
       "    </tr>\n",
       "    <tr>\n",
       "      <th class=\"blank level1\" >&nbsp;</th>\n",
       "      <th id=\"T_3a660_level1_col0\" class=\"col_heading level1 col0\" >recall_macro</th>\n",
       "      <th id=\"T_3a660_level1_col1\" class=\"col_heading level1 col1\" >f1_pos_neg</th>\n",
       "      <th id=\"T_3a660_level1_col2\" class=\"col_heading level1 col2\" >accuracy</th>\n",
       "      <th id=\"T_3a660_level1_col3\" class=\"col_heading level1 col3\" >recall_neg</th>\n",
       "    </tr>\n",
       "  </thead>\n",
       "  <tbody>\n",
       "    <tr>\n",
       "      <th id=\"T_3a660_level0_row0\" class=\"row_heading level0 row0\" >0</th>\n",
       "      <td id=\"T_3a660_row0_col0\" class=\"data row0 col0\" >0.368321</td>\n",
       "      <td id=\"T_3a660_row0_col1\" class=\"data row0 col1\" >0.330364</td>\n",
       "      <td id=\"T_3a660_row0_col2\" class=\"data row0 col2\" >0.349371</td>\n",
       "      <td id=\"T_3a660_row0_col3\" class=\"data row0 col3\" >0.429955</td>\n",
       "    </tr>\n",
       "    <tr>\n",
       "      <th id=\"T_3a660_level0_row1\" class=\"row_heading level0 row1\" >1</th>\n",
       "      <td id=\"T_3a660_row1_col0\" class=\"data row1 col0\" >0.359047</td>\n",
       "      <td id=\"T_3a660_row1_col1\" class=\"data row1 col1\" >0.319618</td>\n",
       "      <td id=\"T_3a660_row1_col2\" class=\"data row1 col2\" >0.340614</td>\n",
       "      <td id=\"T_3a660_row1_col3\" class=\"data row1 col3\" >0.421290</td>\n",
       "    </tr>\n",
       "    <tr>\n",
       "      <th id=\"T_3a660_level0_row2\" class=\"row_heading level0 row2\" >2</th>\n",
       "      <td id=\"T_3a660_row2_col0\" class=\"data row2 col0\" >0.363185</td>\n",
       "      <td id=\"T_3a660_row2_col1\" class=\"data row2 col1\" >0.323889</td>\n",
       "      <td id=\"T_3a660_row2_col2\" class=\"data row2 col2\" >0.345647</td>\n",
       "      <td id=\"T_3a660_row2_col3\" class=\"data row2 col3\" >0.421290</td>\n",
       "    </tr>\n",
       "    <tr>\n",
       "      <th id=\"T_3a660_level0_row3\" class=\"row_heading level0 row3\" >3</th>\n",
       "      <td id=\"T_3a660_row3_col0\" class=\"data row3 col0\" >0.360702</td>\n",
       "      <td id=\"T_3a660_row3_col1\" class=\"data row3 col1\" >0.322471</td>\n",
       "      <td id=\"T_3a660_row3_col2\" class=\"data row3 col2\" >0.343734</td>\n",
       "      <td id=\"T_3a660_row3_col3\" class=\"data row3 col3\" >0.416774</td>\n",
       "    </tr>\n",
       "    <tr>\n",
       "      <th id=\"T_3a660_level0_row4\" class=\"row_heading level0 row4\" >4</th>\n",
       "      <td id=\"T_3a660_row4_col0\" class=\"data row4 col0\" >0.358764</td>\n",
       "      <td id=\"T_3a660_row4_col1\" class=\"data row4 col1\" >0.318492</td>\n",
       "      <td id=\"T_3a660_row4_col2\" class=\"data row4 col2\" >0.340513</td>\n",
       "      <td id=\"T_3a660_row4_col3\" class=\"data row4 col3\" >0.420917</td>\n",
       "    </tr>\n",
       "    <tr>\n",
       "      <th id=\"T_3a660_level0_row5\" class=\"row_heading level0 row5\" >mean</th>\n",
       "      <td id=\"T_3a660_row5_col0\" class=\"data row5 col0\" >0.362004</td>\n",
       "      <td id=\"T_3a660_row5_col1\" class=\"data row5 col1\" >0.322967</td>\n",
       "      <td id=\"T_3a660_row5_col2\" class=\"data row5 col2\" >0.343976</td>\n",
       "      <td id=\"T_3a660_row5_col3\" class=\"data row5 col3\" >0.422045</td>\n",
       "    </tr>\n",
       "    <tr>\n",
       "      <th id=\"T_3a660_level0_row6\" class=\"row_heading level0 row6\" >std</th>\n",
       "      <td id=\"T_3a660_row6_col0\" class=\"data row6 col0\" >0.003945</td>\n",
       "      <td id=\"T_3a660_row6_col1\" class=\"data row6 col1\" >0.004665</td>\n",
       "      <td id=\"T_3a660_row6_col2\" class=\"data row6 col2\" >0.003716</td>\n",
       "      <td id=\"T_3a660_row6_col3\" class=\"data row6 col3\" >0.004816</td>\n",
       "    </tr>\n",
       "  </tbody>\n",
       "</table>\n"
      ],
      "text/plain": [
       "<pandas.io.formats.style.Styler at 0x1fa6b8c4c40>"
      ]
     },
     "execution_count": 12,
     "metadata": {},
     "output_type": "execute_result"
    }
   ],
   "source": [
    "evaluate_model(log_reg,keras_model_tweets, tweets_train_y)"
   ]
  },
  {
   "cell_type": "markdown",
   "metadata": {},
   "source": [
    "c. Word2Vec tweets"
   ]
  },
  {
   "cell_type": "code",
   "execution_count": 13,
   "metadata": {},
   "outputs": [
    {
     "data": {
      "text/html": [
       "<style type=\"text/css\">\n",
       "#T_7f480_row0_col0, #T_7f480_row0_col1, #T_7f480_row0_col2, #T_7f480_row0_col3, #T_7f480_row1_col0, #T_7f480_row1_col1, #T_7f480_row1_col2, #T_7f480_row1_col3, #T_7f480_row2_col0, #T_7f480_row2_col1, #T_7f480_row2_col2, #T_7f480_row2_col3, #T_7f480_row3_col0, #T_7f480_row3_col1, #T_7f480_row3_col2, #T_7f480_row3_col3, #T_7f480_row4_col0, #T_7f480_row4_col1, #T_7f480_row4_col2, #T_7f480_row4_col3, #T_7f480_row6_col0, #T_7f480_row6_col1, #T_7f480_row6_col2, #T_7f480_row6_col3 {\n",
       "  background-color: white;\n",
       "}\n",
       "#T_7f480_row5_col0, #T_7f480_row5_col1, #T_7f480_row5_col2, #T_7f480_row5_col3 {\n",
       "  background-color: orange;\n",
       "}\n",
       "</style>\n",
       "<table id=\"T_7f480\">\n",
       "  <thead>\n",
       "    <tr>\n",
       "      <th class=\"blank level0\" >&nbsp;</th>\n",
       "      <th id=\"T_7f480_level0_col0\" class=\"col_heading level0 col0\" colspan=\"4\">test</th>\n",
       "    </tr>\n",
       "    <tr>\n",
       "      <th class=\"blank level1\" >&nbsp;</th>\n",
       "      <th id=\"T_7f480_level1_col0\" class=\"col_heading level1 col0\" >recall_macro</th>\n",
       "      <th id=\"T_7f480_level1_col1\" class=\"col_heading level1 col1\" >f1_pos_neg</th>\n",
       "      <th id=\"T_7f480_level1_col2\" class=\"col_heading level1 col2\" >accuracy</th>\n",
       "      <th id=\"T_7f480_level1_col3\" class=\"col_heading level1 col3\" >recall_neg</th>\n",
       "    </tr>\n",
       "  </thead>\n",
       "  <tbody>\n",
       "    <tr>\n",
       "      <th id=\"T_7f480_level0_row0\" class=\"row_heading level0 row0\" >0</th>\n",
       "      <td id=\"T_7f480_row0_col0\" class=\"data row0 col0\" >0.492158</td>\n",
       "      <td id=\"T_7f480_row0_col1\" class=\"data row0 col1\" >0.458887</td>\n",
       "      <td id=\"T_7f480_row0_col2\" class=\"data row0 col2\" >0.466331</td>\n",
       "      <td id=\"T_7f480_row0_col3\" class=\"data row0 col3\" >0.571982</td>\n",
       "    </tr>\n",
       "    <tr>\n",
       "      <th id=\"T_7f480_level0_row1\" class=\"row_heading level0 row1\" >1</th>\n",
       "      <td id=\"T_7f480_row1_col0\" class=\"data row1 col0\" >0.500807</td>\n",
       "      <td id=\"T_7f480_row1_col1\" class=\"data row1 col1\" >0.465479</td>\n",
       "      <td id=\"T_7f480_row1_col2\" class=\"data row1 col2\" >0.468747</td>\n",
       "      <td id=\"T_7f480_row1_col3\" class=\"data row1 col3\" >0.603226</td>\n",
       "    </tr>\n",
       "    <tr>\n",
       "      <th id=\"T_7f480_level0_row2\" class=\"row_heading level0 row2\" >2</th>\n",
       "      <td id=\"T_7f480_row2_col0\" class=\"data row2 col0\" >0.499216</td>\n",
       "      <td id=\"T_7f480_row2_col1\" class=\"data row2 col1\" >0.463130</td>\n",
       "      <td id=\"T_7f480_row2_col2\" class=\"data row2 col2\" >0.469653</td>\n",
       "      <td id=\"T_7f480_row2_col3\" class=\"data row2 col3\" >0.594839</td>\n",
       "    </tr>\n",
       "    <tr>\n",
       "      <th id=\"T_7f480_level0_row3\" class=\"row_heading level0 row3\" >3</th>\n",
       "      <td id=\"T_7f480_row3_col0\" class=\"data row3 col0\" >0.488966</td>\n",
       "      <td id=\"T_7f480_row3_col1\" class=\"data row3 col1\" >0.452790</td>\n",
       "      <td id=\"T_7f480_row3_col2\" class=\"data row3 col2\" >0.466532</td>\n",
       "      <td id=\"T_7f480_row3_col3\" class=\"data row3 col3\" >0.558710</td>\n",
       "    </tr>\n",
       "    <tr>\n",
       "      <th id=\"T_7f480_level0_row4\" class=\"row_heading level0 row4\" >4</th>\n",
       "      <td id=\"T_7f480_row4_col0\" class=\"data row4 col0\" >0.499651</td>\n",
       "      <td id=\"T_7f480_row4_col1\" class=\"data row4 col1\" >0.465054</td>\n",
       "      <td id=\"T_7f480_row4_col2\" class=\"data row4 col2\" >0.472572</td>\n",
       "      <td id=\"T_7f480_row4_col3\" class=\"data row4 col3\" >0.585539</td>\n",
       "    </tr>\n",
       "    <tr>\n",
       "      <th id=\"T_7f480_level0_row5\" class=\"row_heading level0 row5\" >mean</th>\n",
       "      <td id=\"T_7f480_row5_col0\" class=\"data row5 col0\" >0.496160</td>\n",
       "      <td id=\"T_7f480_row5_col1\" class=\"data row5 col1\" >0.461068</td>\n",
       "      <td id=\"T_7f480_row5_col2\" class=\"data row5 col2\" >0.468767</td>\n",
       "      <td id=\"T_7f480_row5_col3\" class=\"data row5 col3\" >0.582859</td>\n",
       "    </tr>\n",
       "    <tr>\n",
       "      <th id=\"T_7f480_level0_row6\" class=\"row_heading level0 row6\" >std</th>\n",
       "      <td id=\"T_7f480_row6_col0\" class=\"data row6 col0\" >0.005265</td>\n",
       "      <td id=\"T_7f480_row6_col1\" class=\"data row6 col1\" >0.005312</td>\n",
       "      <td id=\"T_7f480_row6_col2\" class=\"data row6 col2\" >0.002559</td>\n",
       "      <td id=\"T_7f480_row6_col3\" class=\"data row6 col3\" >0.017797</td>\n",
       "    </tr>\n",
       "  </tbody>\n",
       "</table>\n"
      ],
      "text/plain": [
       "<pandas.io.formats.style.Styler at 0x1fa496b1460>"
      ]
     },
     "execution_count": 13,
     "metadata": {},
     "output_type": "execute_result"
    }
   ],
   "source": [
    "evaluate_model(log_reg, word2vec_tweets, tweets_train_y)"
   ]
  },
  {
   "cell_type": "markdown",
   "metadata": {},
   "source": [
    "d. fastText tweets"
   ]
  },
  {
   "cell_type": "code",
   "execution_count": 14,
   "metadata": {},
   "outputs": [
    {
     "data": {
      "text/html": [
       "<style type=\"text/css\">\n",
       "#T_2c9fc_row0_col0, #T_2c9fc_row0_col1, #T_2c9fc_row0_col2, #T_2c9fc_row0_col3, #T_2c9fc_row1_col0, #T_2c9fc_row1_col1, #T_2c9fc_row1_col2, #T_2c9fc_row1_col3, #T_2c9fc_row2_col0, #T_2c9fc_row2_col1, #T_2c9fc_row2_col2, #T_2c9fc_row2_col3, #T_2c9fc_row3_col0, #T_2c9fc_row3_col1, #T_2c9fc_row3_col2, #T_2c9fc_row3_col3, #T_2c9fc_row4_col0, #T_2c9fc_row4_col1, #T_2c9fc_row4_col2, #T_2c9fc_row4_col3, #T_2c9fc_row6_col0, #T_2c9fc_row6_col1, #T_2c9fc_row6_col2, #T_2c9fc_row6_col3 {\n",
       "  background-color: white;\n",
       "}\n",
       "#T_2c9fc_row5_col0, #T_2c9fc_row5_col1, #T_2c9fc_row5_col2, #T_2c9fc_row5_col3 {\n",
       "  background-color: orange;\n",
       "}\n",
       "</style>\n",
       "<table id=\"T_2c9fc\">\n",
       "  <thead>\n",
       "    <tr>\n",
       "      <th class=\"blank level0\" >&nbsp;</th>\n",
       "      <th id=\"T_2c9fc_level0_col0\" class=\"col_heading level0 col0\" colspan=\"4\">test</th>\n",
       "    </tr>\n",
       "    <tr>\n",
       "      <th class=\"blank level1\" >&nbsp;</th>\n",
       "      <th id=\"T_2c9fc_level1_col0\" class=\"col_heading level1 col0\" >recall_macro</th>\n",
       "      <th id=\"T_2c9fc_level1_col1\" class=\"col_heading level1 col1\" >f1_pos_neg</th>\n",
       "      <th id=\"T_2c9fc_level1_col2\" class=\"col_heading level1 col2\" >accuracy</th>\n",
       "      <th id=\"T_2c9fc_level1_col3\" class=\"col_heading level1 col3\" >recall_neg</th>\n",
       "    </tr>\n",
       "  </thead>\n",
       "  <tbody>\n",
       "    <tr>\n",
       "      <th id=\"T_2c9fc_level0_row0\" class=\"row_heading level0 row0\" >0</th>\n",
       "      <td id=\"T_2c9fc_row0_col0\" class=\"data row0 col0\" >0.485396</td>\n",
       "      <td id=\"T_2c9fc_row0_col1\" class=\"data row0 col1\" >0.446723</td>\n",
       "      <td id=\"T_2c9fc_row0_col2\" class=\"data row0 col2\" >0.465224</td>\n",
       "      <td id=\"T_2c9fc_row0_col3\" class=\"data row0 col3\" >0.548741</td>\n",
       "    </tr>\n",
       "    <tr>\n",
       "      <th id=\"T_2c9fc_level0_row1\" class=\"row_heading level0 row1\" >1</th>\n",
       "      <td id=\"T_2c9fc_row1_col0\" class=\"data row1 col0\" >0.491378</td>\n",
       "      <td id=\"T_2c9fc_row1_col1\" class=\"data row1 col1\" >0.452748</td>\n",
       "      <td id=\"T_2c9fc_row1_col2\" class=\"data row1 col2\" >0.470659</td>\n",
       "      <td id=\"T_2c9fc_row1_col3\" class=\"data row1 col3\" >0.556129</td>\n",
       "    </tr>\n",
       "    <tr>\n",
       "      <th id=\"T_2c9fc_level0_row2\" class=\"row_heading level0 row2\" >2</th>\n",
       "      <td id=\"T_2c9fc_row2_col0\" class=\"data row2 col0\" >0.486852</td>\n",
       "      <td id=\"T_2c9fc_row2_col1\" class=\"data row2 col1\" >0.447345</td>\n",
       "      <td id=\"T_2c9fc_row2_col2\" class=\"data row2 col2\" >0.464419</td>\n",
       "      <td id=\"T_2c9fc_row2_col3\" class=\"data row2 col3\" >0.558710</td>\n",
       "    </tr>\n",
       "    <tr>\n",
       "      <th id=\"T_2c9fc_level0_row3\" class=\"row_heading level0 row3\" >3</th>\n",
       "      <td id=\"T_2c9fc_row3_col0\" class=\"data row3 col0\" >0.480004</td>\n",
       "      <td id=\"T_2c9fc_row3_col1\" class=\"data row3 col1\" >0.440098</td>\n",
       "      <td id=\"T_2c9fc_row3_col2\" class=\"data row3 col2\" >0.466230</td>\n",
       "      <td id=\"T_2c9fc_row3_col3\" class=\"data row3 col3\" >0.521935</td>\n",
       "    </tr>\n",
       "    <tr>\n",
       "      <th id=\"T_2c9fc_level0_row4\" class=\"row_heading level0 row4\" >4</th>\n",
       "      <td id=\"T_2c9fc_row4_col0\" class=\"data row4 col0\" >0.490823</td>\n",
       "      <td id=\"T_2c9fc_row4_col1\" class=\"data row4 col1\" >0.450023</td>\n",
       "      <td id=\"T_2c9fc_row4_col2\" class=\"data row4 col2\" >0.469653</td>\n",
       "      <td id=\"T_2c9fc_row4_col3\" class=\"data row4 col3\" >0.559070</td>\n",
       "    </tr>\n",
       "    <tr>\n",
       "      <th id=\"T_2c9fc_level0_row5\" class=\"row_heading level0 row5\" >mean</th>\n",
       "      <td id=\"T_2c9fc_row5_col0\" class=\"data row5 col0\" >0.486891</td>\n",
       "      <td id=\"T_2c9fc_row5_col1\" class=\"data row5 col1\" >0.447387</td>\n",
       "      <td id=\"T_2c9fc_row5_col2\" class=\"data row5 col2\" >0.467237</td>\n",
       "      <td id=\"T_2c9fc_row5_col3\" class=\"data row5 col3\" >0.548917</td>\n",
       "    </tr>\n",
       "    <tr>\n",
       "      <th id=\"T_2c9fc_level0_row6\" class=\"row_heading level0 row6\" >std</th>\n",
       "      <td id=\"T_2c9fc_row6_col0\" class=\"data row6 col0\" >0.004617</td>\n",
       "      <td id=\"T_2c9fc_row6_col1\" class=\"data row6 col1\" >0.004724</td>\n",
       "      <td id=\"T_2c9fc_row6_col2\" class=\"data row6 col2\" >0.002764</td>\n",
       "      <td id=\"T_2c9fc_row6_col3\" class=\"data row6 col3\" >0.015645</td>\n",
       "    </tr>\n",
       "  </tbody>\n",
       "</table>\n"
      ],
      "text/plain": [
       "<pandas.io.formats.style.Styler at 0x1fa496f82b0>"
      ]
     },
     "execution_count": 14,
     "metadata": {},
     "output_type": "execute_result"
    }
   ],
   "source": [
    "evaluate_model(log_reg, fasttext_tweets, tweets_train_y)"
   ]
  },
  {
   "cell_type": "markdown",
   "metadata": {},
   "source": [
    "e. Doc2Vec tweets"
   ]
  },
  {
   "cell_type": "code",
   "execution_count": 15,
   "metadata": {},
   "outputs": [
    {
     "data": {
      "text/html": [
       "<style type=\"text/css\">\n",
       "#T_5596c_row0_col0, #T_5596c_row0_col1, #T_5596c_row0_col2, #T_5596c_row0_col3, #T_5596c_row1_col0, #T_5596c_row1_col1, #T_5596c_row1_col2, #T_5596c_row1_col3, #T_5596c_row2_col0, #T_5596c_row2_col1, #T_5596c_row2_col2, #T_5596c_row2_col3, #T_5596c_row3_col0, #T_5596c_row3_col1, #T_5596c_row3_col2, #T_5596c_row3_col3, #T_5596c_row4_col0, #T_5596c_row4_col1, #T_5596c_row4_col2, #T_5596c_row4_col3, #T_5596c_row6_col0, #T_5596c_row6_col1, #T_5596c_row6_col2, #T_5596c_row6_col3 {\n",
       "  background-color: white;\n",
       "}\n",
       "#T_5596c_row5_col0, #T_5596c_row5_col1, #T_5596c_row5_col2, #T_5596c_row5_col3 {\n",
       "  background-color: orange;\n",
       "}\n",
       "</style>\n",
       "<table id=\"T_5596c\">\n",
       "  <thead>\n",
       "    <tr>\n",
       "      <th class=\"blank level0\" >&nbsp;</th>\n",
       "      <th id=\"T_5596c_level0_col0\" class=\"col_heading level0 col0\" colspan=\"4\">test</th>\n",
       "    </tr>\n",
       "    <tr>\n",
       "      <th class=\"blank level1\" >&nbsp;</th>\n",
       "      <th id=\"T_5596c_level1_col0\" class=\"col_heading level1 col0\" >recall_macro</th>\n",
       "      <th id=\"T_5596c_level1_col1\" class=\"col_heading level1 col1\" >f1_pos_neg</th>\n",
       "      <th id=\"T_5596c_level1_col2\" class=\"col_heading level1 col2\" >accuracy</th>\n",
       "      <th id=\"T_5596c_level1_col3\" class=\"col_heading level1 col3\" >recall_neg</th>\n",
       "    </tr>\n",
       "  </thead>\n",
       "  <tbody>\n",
       "    <tr>\n",
       "      <th id=\"T_5596c_level0_row0\" class=\"row_heading level0 row0\" >0</th>\n",
       "      <td id=\"T_5596c_row0_col0\" class=\"data row0 col0\" >0.437089</td>\n",
       "      <td id=\"T_5596c_row0_col1\" class=\"data row0 col1\" >0.411732</td>\n",
       "      <td id=\"T_5596c_row0_col2\" class=\"data row0 col2\" >0.412079</td>\n",
       "      <td id=\"T_5596c_row0_col3\" class=\"data row0 col3\" >0.510006</td>\n",
       "    </tr>\n",
       "    <tr>\n",
       "      <th id=\"T_5596c_level0_row1\" class=\"row_heading level0 row1\" >1</th>\n",
       "      <td id=\"T_5596c_row1_col0\" class=\"data row1 col0\" >0.458424</td>\n",
       "      <td id=\"T_5596c_row1_col1\" class=\"data row1 col1\" >0.427026</td>\n",
       "      <td id=\"T_5596c_row1_col2\" class=\"data row1 col2\" >0.427781</td>\n",
       "      <td id=\"T_5596c_row1_col3\" class=\"data row1 col3\" >0.554194</td>\n",
       "    </tr>\n",
       "    <tr>\n",
       "      <th id=\"T_5596c_level0_row2\" class=\"row_heading level0 row2\" >2</th>\n",
       "      <td id=\"T_5596c_row2_col0\" class=\"data row2 col0\" >0.455513</td>\n",
       "      <td id=\"T_5596c_row2_col1\" class=\"data row2 col1\" >0.425268</td>\n",
       "      <td id=\"T_5596c_row2_col2\" class=\"data row2 col2\" >0.427781</td>\n",
       "      <td id=\"T_5596c_row2_col3\" class=\"data row2 col3\" >0.541290</td>\n",
       "    </tr>\n",
       "    <tr>\n",
       "      <th id=\"T_5596c_level0_row3\" class=\"row_heading level0 row3\" >3</th>\n",
       "      <td id=\"T_5596c_row3_col0\" class=\"data row3 col0\" >0.431766</td>\n",
       "      <td id=\"T_5596c_row3_col1\" class=\"data row3 col1\" >0.405602</td>\n",
       "      <td id=\"T_5596c_row3_col2\" class=\"data row3 col2\" >0.410971</td>\n",
       "      <td id=\"T_5596c_row3_col3\" class=\"data row3 col3\" >0.490323</td>\n",
       "    </tr>\n",
       "    <tr>\n",
       "      <th id=\"T_5596c_level0_row4\" class=\"row_heading level0 row4\" >4</th>\n",
       "      <td id=\"T_5596c_row4_col0\" class=\"data row4 col0\" >0.446502</td>\n",
       "      <td id=\"T_5596c_row4_col1\" class=\"data row4 col1\" >0.417783</td>\n",
       "      <td id=\"T_5596c_row4_col2\" class=\"data row4 col2\" >0.424157</td>\n",
       "      <td id=\"T_5596c_row4_col3\" class=\"data row4 col3\" >0.511298</td>\n",
       "    </tr>\n",
       "    <tr>\n",
       "      <th id=\"T_5596c_level0_row5\" class=\"row_heading level0 row5\" >mean</th>\n",
       "      <td id=\"T_5596c_row5_col0\" class=\"data row5 col0\" >0.445859</td>\n",
       "      <td id=\"T_5596c_row5_col1\" class=\"data row5 col1\" >0.417482</td>\n",
       "      <td id=\"T_5596c_row5_col2\" class=\"data row5 col2\" >0.420554</td>\n",
       "      <td id=\"T_5596c_row5_col3\" class=\"data row5 col3\" >0.521422</td>\n",
       "    </tr>\n",
       "    <tr>\n",
       "      <th id=\"T_5596c_level0_row6\" class=\"row_heading level0 row6\" >std</th>\n",
       "      <td id=\"T_5596c_row6_col0\" class=\"data row6 col0\" >0.011478</td>\n",
       "      <td id=\"T_5596c_row6_col1\" class=\"data row6 col1\" >0.009028</td>\n",
       "      <td id=\"T_5596c_row6_col2\" class=\"data row6 col2\" >0.008383</td>\n",
       "      <td id=\"T_5596c_row6_col3\" class=\"data row6 col3\" >0.025830</td>\n",
       "    </tr>\n",
       "  </tbody>\n",
       "</table>\n"
      ],
      "text/plain": [
       "<pandas.io.formats.style.Styler at 0x1fa6b8c4f10>"
      ]
     },
     "execution_count": 15,
     "metadata": {},
     "output_type": "execute_result"
    }
   ],
   "source": [
    "evaluate_model(log_reg, doc2vec_tweets, tweets_train_y)"
   ]
  },
  {
   "cell_type": "markdown",
   "metadata": {},
   "source": [
    "Since **tfidf_tweets** scored the highest in Macro-Recall **(63.20%)**, and even in our secondary metrics such as our recall for the negative class **(63.97%)**, we will choose **TfidfVectorizer** as our feature extraction technique to vectorize our tweets. We will pass this vectorized texts to a neural network, possibly to create a model with a better performance."
   ]
  },
  {
   "cell_type": "markdown",
   "metadata": {},
   "source": [
    "#### **End. Thank you!**"
   ]
  }
 ],
 "metadata": {
  "kernelspec": {
   "display_name": "Python 3 (ipykernel)",
   "language": "python",
   "name": "python3"
  },
  "language_info": {
   "codemirror_mode": {
    "name": "ipython",
    "version": 3
   },
   "file_extension": ".py",
   "mimetype": "text/x-python",
   "name": "python",
   "nbconvert_exporter": "python",
   "pygments_lexer": "ipython3",
   "version": "3.9.13"
  },
  "vscode": {
   "interpreter": {
    "hash": "dcad393ebe0ddd96229d28636729608eefe2a539d1a2b16c2babaf1f7828873b"
   }
  }
 },
 "nbformat": 4,
 "nbformat_minor": 2
}
